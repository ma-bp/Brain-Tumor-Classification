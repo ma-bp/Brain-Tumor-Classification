{
  "cells": [
    {
      "cell_type": "markdown",
      "metadata": {
        "id": "DytY5PiqpxCh"
      },
      "source": [
        "## TFRecord Dataset"
      ]
    },
    {
      "cell_type": "markdown",
      "metadata": {
        "id": "oDEzY3Myp76s"
      },
      "source": [
        "### Import Libraries"
      ]
    },
    {
      "cell_type": "code",
      "execution_count": null,
      "metadata": {
        "id": "k9NqiDWOp4F8"
      },
      "outputs": [],
      "source": [
        "import os\n",
        "from PIL import Image\n",
        "import numpy as np\n",
        "import pandas as pd\n",
        "import cv2\n",
        "import matplotlib.pyplot as plt\n",
        "from tqdm import tqdm\n",
        "import random"
      ]
    },
    {
      "cell_type": "code",
      "execution_count": null,
      "metadata": {
        "colab": {
          "base_uri": "https://localhost:8080/"
        },
        "id": "UTycqc78qEET",
        "outputId": "44d02144-bf34-4705-d4c9-49124919d298"
      },
      "outputs": [
        {
          "name": "stdout",
          "output_type": "stream",
          "text": [
            "TensorFlow Version: 2.15.0\n",
            "All Physical Devices: [PhysicalDevice(name='/physical_device:CPU:0', device_type='CPU'), PhysicalDevice(name='/physical_device:GPU:0', device_type='GPU')]\n",
            "GPUs: [PhysicalDevice(name='/physical_device:GPU:0', device_type='GPU')]\n",
            "GPU found at /device:GPU:0. Using the L4 GPU hardware accelerator in Google Colab Pro.\n",
            "TensorFlow can access the L4 GPU hardware accelerator in Google Colab Pro\n"
          ]
        }
      ],
      "source": [
        "import tensorflow as tf\n",
        "\n",
        "# Check TensorFlow version\n",
        "print(\"TensorFlow Version:\", tf.__version__)\n",
        "\n",
        "# List all physical devices\n",
        "physical_devices = tf.config.list_physical_devices()\n",
        "print(\"All Physical Devices:\", physical_devices)\n",
        "\n",
        "# List GPU devices\n",
        "gpus = tf.config.list_physical_devices('GPU')\n",
        "print(\"GPUs:\", gpus)\n",
        "\n",
        "# Test TensorFlow GPU availability\n",
        "device_name = tf.test.gpu_device_name()\n",
        "if device_name != '/device:GPU:0':\n",
        "    print(\"GPU device not found. Please ensure that your machine has a compatible GPU and that TensorFlow is set up to use it.\")\n",
        "else:\n",
        "    print('GPU found at {}. Using the L4 GPU hardware accelerator in Google Colab Pro.'.format(device_name))\n",
        "\n",
        "# Check if TensorFlow can access the GPU\n",
        "try:\n",
        "    with tf.device('/device:GPU:0'):\n",
        "        print(\"TensorFlow can access the L4 GPU hardware accelerator in Google Colab Pro\")\n",
        "except RuntimeError as e:\n",
        "    print(\"Error accessing the L4 GPU hardware accelerator in Google Colab Pro with TensorFlow:\", e)\n"
      ]
    },
    {
      "cell_type": "code",
      "execution_count": null,
      "metadata": {
        "colab": {
          "base_uri": "https://localhost:8080/"
        },
        "id": "oHzaoecMqG65",
        "outputId": "1ddf405f-840a-4cc1-e270-456b8b94ab64"
      },
      "outputs": [
        {
          "output_type": "stream",
          "name": "stdout",
          "text": [
            "Mounted at /content/gdrive\n"
          ]
        }
      ],
      "source": [
        "from google.colab import drive\n",
        "drive.mount('/content/gdrive')"
      ]
    },
    {
      "cell_type": "code",
      "execution_count": null,
      "metadata": {
        "colab": {
          "base_uri": "https://localhost:8080/"
        },
        "id": "b2aksOPNrIAz",
        "outputId": "ba5a754b-922b-4cb0-c91a-be932e7c9f4b"
      },
      "outputs": [
        {
          "name": "stdout",
          "output_type": "stream",
          "text": [
            "/content/gdrive/My Drive/Masters Project/Final Dataset\n",
            "Testing_Output\tTraining_Output  X_test.pickle\tX_train.pickle\tY_test.pickle  Y_train.pickle\n"
          ]
        }
      ],
      "source": [
        "%cd /content/gdrive/My Drive/Masters Project/Final Dataset\n",
        "!ls"
      ]
    },
    {
      "cell_type": "code",
      "execution_count": null,
      "metadata": {
        "id": "HGrnIVpsqG-l"
      },
      "outputs": [],
      "source": [
        "TEST_DIR = \"//content//gdrive//My Drive//Masters Project//Final Dataset//Testing_Output\" # test data folder\n",
        "TRAIN_DIR = \"//content//gdrive//My Drive//Masters Project//Final Dataset//Training_Output\" # train data folder\n",
        "IMG_SIZE = 224 # image size\n",
        "CATEGORIES = [\"no_tumor_Output\",\"glioma_tumor_Output\",\"meningioma_tumor_Output\",\"pituitary_tumor_Output\"]"
      ]
    },
    {
      "cell_type": "markdown",
      "metadata": {
        "id": "MtdE62_1pyDl"
      },
      "source": [
        "## TFRecord Dataset"
      ]
    },
    {
      "cell_type": "code",
      "execution_count": null,
      "metadata": {
        "colab": {
          "background_save": true
        },
        "id": "jieCUmcg9_VU"
      },
      "outputs": [],
      "source": [
        "%%time\n",
        "\n",
        "def _int64_feature(value):\n",
        "    return tf.train.Feature(int64_list=tf.train.Int64List(value=[value]))\n",
        "\n",
        "def _bytes_feature(value):\n",
        "    return tf.train.Feature(bytes_list=tf.train.BytesList(value=[value]))\n",
        "\n",
        "def serialize_example(image, label):\n",
        "    feature = {\n",
        "        'label': _int64_feature(label),\n",
        "        'image_raw': _bytes_feature(image)\n",
        "    }\n",
        "    example_proto = tf.train.Example(features=tf.train.Features(feature=feature))\n",
        "    return example_proto.SerializeToString()\n",
        "\n",
        "def create_tfrecord(data_dir, output_file):\n",
        "    with tf.io.TFRecordWriter(output_file) as writer:\n",
        "        for category in CATEGORIES:\n",
        "            class_index = CATEGORIES.index(category)\n",
        "            category_path = os.path.join(data_dir, category)\n",
        "            for img_name in os.listdir(category_path):\n",
        "                img_path = os.path.join(category_path, img_name)\n",
        "                img = cv2.imread(img_path)\n",
        "                img = cv2.resize(img, (IMG_SIZE, IMG_SIZE))\n",
        "                img = cv2.cvtColor(img, cv2.COLOR_BGR2RGB)\n",
        "                img_raw = img.tobytes()\n",
        "                example = serialize_example(img_raw, class_index)\n",
        "                writer.write(example)\n",
        "\n",
        "# Create TFRecord files for training and testing datasets\n",
        "create_tfrecord(TRAIN_DIR, 'train_dataset.tfrecord')\n",
        "create_tfrecord(TEST_DIR, 'test_dataset.tfrecord')\n",
        "\n",
        "# Functions to print resource usage\n",
        "import psutil\n",
        "import resource\n",
        "import tracemalloc\n",
        "\n",
        "tracemalloc.start()\n",
        "\n",
        "def print_memory_usage():\n",
        "    process = psutil.Process(os.getpid())\n",
        "    mem_info = process.memory_info()\n",
        "    print(f\"RSS: {mem_info.rss / 1024 ** 2:.2f} MB\")\n",
        "    print(f\"VMS: {mem_info.vms / 1024 ** 2:.2f} MB\")\n",
        "\n",
        "def print_cpu_usage():\n",
        "    print(f\"CPU Usage: {psutil.cpu_percent(interval=1)}%\")\n",
        "\n",
        "def print_disk_usage():\n",
        "    disk_usage = psutil.disk_usage('/')\n",
        "    print(f\"Total Disk Space: {disk_usage.total / 1024 ** 3:.2f} GB\")\n",
        "    print(f\"Used Disk Space: {disk_usage.used / 1024 ** 3:.2f} GB\")\n",
        "    print(f\"Disk Usage: {disk_usage.percent}%\")\n",
        "\n",
        "def print_resource_usage():\n",
        "    usage = resource.getrusage(resource.RUSAGE_SELF)\n",
        "    print(f\"User CPU time: {usage.ru_utime:.2f} seconds\")\n",
        "    print(f\"System CPU time: {usage.ru_stime:.2f} seconds\")\n",
        "\n",
        "def print_tracemalloc_usage():\n",
        "    current, peak = tracemalloc.get_traced_memory()\n",
        "    print(f\"Current Memory Usage: {current / 1024 ** 2:.2f} MB\")\n",
        "    print(f\"Peak Memory Usage: {peak / 1024 ** 2:.2f} MB\")\n",
        "\n",
        "print_memory_usage()\n",
        "print_cpu_usage()\n",
        "print_disk_usage()\n",
        "print_resource_usage()\n",
        "print_tracemalloc_usage()\n"
      ]
    },
    {
      "cell_type": "code",
      "source": [
        "%cd /content/gdrive/My Drive/Masters Project/Final Dataset/tfrecord\n",
        "!ls"
      ],
      "metadata": {
        "colab": {
          "base_uri": "https://localhost:8080/"
        },
        "id": "l5OZ-Aw5Bms3",
        "outputId": "0c9da96a-106d-422b-b160-20186c55c48f"
      },
      "execution_count": null,
      "outputs": [
        {
          "output_type": "stream",
          "name": "stdout",
          "text": [
            "/content/gdrive/My Drive/Masters Project/Final Dataset/tfrecord\n",
            "test_dataset.tfrecord  tfrecord_file.tfrecord  train_dataset.tfrecord\n"
          ]
        }
      ]
    }
  ],
  "metadata": {
    "accelerator": "GPU",
    "colab": {
      "gpuType": "L4",
      "machine_shape": "hm",
      "provenance": []
    },
    "kernelspec": {
      "display_name": "Python 3",
      "name": "python3"
    },
    "language_info": {
      "name": "python"
    }
  },
  "nbformat": 4,
  "nbformat_minor": 0
}