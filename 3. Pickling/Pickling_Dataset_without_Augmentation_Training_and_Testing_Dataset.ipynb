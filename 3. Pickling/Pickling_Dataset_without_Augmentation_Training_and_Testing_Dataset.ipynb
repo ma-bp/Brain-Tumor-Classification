{
  "nbformat": 4,
  "nbformat_minor": 0,
  "metadata": {
    "colab": {
      "provenance": [],
      "machine_shape": "hm",
      "gpuType": "L4"
    },
    "kernelspec": {
      "name": "python3",
      "display_name": "Python 3"
    },
    "language_info": {
      "name": "python"
    },
    "accelerator": "GPU"
  },
  "cells": [
    {
      "cell_type": "markdown",
      "source": [
        "## Pickling Dataset"
      ],
      "metadata": {
        "id": "DytY5PiqpxCh"
      }
    },
    {
      "cell_type": "markdown",
      "source": [
        "### Import Libraries"
      ],
      "metadata": {
        "id": "oDEzY3Myp76s"
      }
    },
    {
      "cell_type": "code",
      "source": [
        "import os\n",
        "from PIL import Image\n",
        "import numpy as np\n",
        "import pandas as pd\n",
        "import cv2\n",
        "import matplotlib.pyplot as plt\n",
        "from tqdm import tqdm\n",
        "import random\n",
        "import tensorflow as tf\n",
        "import pickle\n",
        "import psutil\n",
        "import resource\n",
        "import tracemalloc"
      ],
      "metadata": {
        "id": "k9NqiDWOp4F8"
      },
      "execution_count": null,
      "outputs": []
    },
    {
      "cell_type": "code",
      "source": [
        "\n",
        "# Check TensorFlow version\n",
        "print(\"TensorFlow Version:\", tf.__version__)\n",
        "\n",
        "# List all physical devices\n",
        "physical_devices = tf.config.list_physical_devices()\n",
        "print(\"All Physical Devices:\", physical_devices)\n",
        "\n",
        "# List GPU devices\n",
        "gpus = tf.config.list_physical_devices('GPU')\n",
        "print(\"GPUs:\", gpus)\n",
        "\n",
        "# Test TensorFlow GPU availability\n",
        "device_name = tf.test.gpu_device_name()\n",
        "if device_name != '/device:GPU:0':\n",
        "    print(\"GPU device not found. Please ensure that your machine has a compatible GPU and that TensorFlow is set up to use it.\")\n",
        "else:\n",
        "    print('GPU found at {}. Using the L4 GPU hardware accelerator in Google Colab Pro.'.format(device_name))\n",
        "\n",
        "# Check if TensorFlow can access the GPU\n",
        "try:\n",
        "    with tf.device('/device:GPU:0'):\n",
        "        print(\"TensorFlow can access the L4 GPU hardware accelerator in Google Colab Pro\")\n",
        "except RuntimeError as e:\n",
        "    print(\"Error accessing the L4 GPU hardware accelerator in Google Colab Pro with TensorFlow:\", e)\n"
      ],
      "metadata": {
        "id": "UTycqc78qEET",
        "colab": {
          "base_uri": "https://localhost:8080/"
        },
        "outputId": "9f1689d5-fc08-44aa-f75d-7c77c7dd7769"
      },
      "execution_count": null,
      "outputs": [
        {
          "output_type": "stream",
          "name": "stdout",
          "text": [
            "TensorFlow Version: 2.15.0\n",
            "All Physical Devices: [PhysicalDevice(name='/physical_device:CPU:0', device_type='CPU'), PhysicalDevice(name='/physical_device:GPU:0', device_type='GPU')]\n",
            "GPUs: [PhysicalDevice(name='/physical_device:GPU:0', device_type='GPU')]\n",
            "GPU found at /device:GPU:0. Using the L4 GPU hardware accelerator in Google Colab Pro.\n",
            "TensorFlow can access the L4 GPU hardware accelerator in Google Colab Pro\n"
          ]
        }
      ]
    },
    {
      "cell_type": "code",
      "source": [
        "from google.colab import drive\n",
        "drive.mount('/content/gdrive')"
      ],
      "metadata": {
        "id": "oHzaoecMqG65",
        "colab": {
          "base_uri": "https://localhost:8080/"
        },
        "outputId": "578fe092-5f43-4e12-d82f-0dbce558933f"
      },
      "execution_count": null,
      "outputs": [
        {
          "output_type": "stream",
          "name": "stdout",
          "text": [
            "Mounted at /content/gdrive\n"
          ]
        }
      ]
    },
    {
      "cell_type": "code",
      "source": [
        "%cd /content/gdrive/My Drive/Masters Project/Final Dataset/crop\n",
        "!ls"
      ],
      "metadata": {
        "id": "b2aksOPNrIAz",
        "colab": {
          "base_uri": "https://localhost:8080/"
        },
        "outputId": "005cdb46-605e-4cf0-cdee-54f26fa08074"
      },
      "execution_count": null,
      "outputs": [
        {
          "output_type": "stream",
          "name": "stdout",
          "text": [
            "/content/gdrive/My Drive/Masters Project/Final Dataset/crop\n",
            "pickle_r  Testing_Output_r  Training_Output_r\n"
          ]
        }
      ]
    },
    {
      "cell_type": "code",
      "source": [
        "TEST_DIR = \"//content//gdrive//My Drive//Masters Project//Final Dataset//crop//Testing_Output_r\" # test data folder\n",
        "TRAIN_DIR = \"//content//gdrive//My Drive//Masters Project//Final Dataset//crop//Training_Output_r\" # train data folder\n",
        "IMG_SIZE = 224 # image size\n",
        "CATEGORIES = [\"no_tumor_Output_r\",\"glioma_tumor_Output_r\",\"meningioma_tumor_Output_r\",\"pituitary_tumor_Output_r\"]"
      ],
      "metadata": {
        "id": "HGrnIVpsqG-l"
      },
      "execution_count": null,
      "outputs": []
    },
    {
      "cell_type": "markdown",
      "source": [
        "### Training Set"
      ],
      "metadata": {
        "id": "FvjQhhuerRAd"
      }
    },
    {
      "cell_type": "code",
      "source": [
        "%%time\n",
        "\n",
        "training_data = []\n",
        "\n",
        "def create_training_data():\n",
        "    for category in CATEGORIES:\n",
        "        path = os.path.join(TRAIN_DIR, category)  # create path\n",
        "        class_num = CATEGORIES.index(category)  # get the classification\n",
        "\n",
        "        for img in tqdm(os.listdir(path)):\n",
        "            # iterate over each image per category\n",
        "            img_array = cv2.imread(os.path.join(path, img), cv2.IMREAD_COLOR)  # convert to array\n",
        "            if img_array is not None:\n",
        "                new_array = cv2.resize(img_array, (IMG_SIZE, IMG_SIZE))  # resize to normalize data size\n",
        "                training_data.append([new_array, class_num])  # add this to our training_data\n",
        "\n",
        "    random.shuffle(training_data)\n",
        "\n",
        "create_training_data()\n",
        "print(f\"Total training samples: {len(training_data)}\")\n",
        "\n",
        "# Separate features and labels\n",
        "X_train = np.array([i[0] for i in training_data]).reshape(-1, IMG_SIZE, IMG_SIZE, 3)\n",
        "Y_train = np.array([i[1] for i in training_data])\n",
        "\n",
        "# Save the arrays using pickle\n",
        "with open(\"X_train_r.pickle\", \"wb\") as pickle_out:\n",
        "    pickle.dump(X_train, pickle_out)\n",
        "\n",
        "with open(\"Y_train_r.pickle\", \"wb\") as pickle_out:\n",
        "    pickle.dump(Y_train, pickle_out)\n",
        "\n",
        "print(\"Data saved successfully.\")\n",
        "\n",
        "# Functions to print resource usage\n",
        "tracemalloc.start()\n",
        "\n",
        "def print_memory_usage():\n",
        "    process = psutil.Process(os.getpid())\n",
        "    mem_info = process.memory_info()\n",
        "    print(f\"RSS: {mem_info.rss / 1024 ** 2:.2f} MB\")\n",
        "    print(f\"VMS: {mem_info.vms / 1024 ** 2:.2f} MB\")\n",
        "\n",
        "def print_cpu_usage():\n",
        "    print(f\"CPU Usage: {psutil.cpu_percent(interval=1)}%\")\n",
        "\n",
        "def print_disk_usage():\n",
        "    disk_usage = psutil.disk_usage('/')\n",
        "    print(f\"Total Disk Space: {disk_usage.total / 1024 ** 3:.2f} GB\")\n",
        "    print(f\"Used Disk Space: {disk_usage.used / 1024 ** 3:.2f} GB\")\n",
        "    print(f\"Disk Usage: {disk_usage.percent}%\")\n",
        "\n",
        "def print_resource_usage():\n",
        "    usage = resource.getrusage(resource.RUSAGE_SELF)\n",
        "    print(f\"User CPU time: {usage.ru_utime:.2f} seconds\")\n",
        "    print(f\"System CPU time: {usage.ru_stime:.2f} seconds\")\n",
        "\n",
        "def print_tracemalloc_usage():\n",
        "    current, peak = tracemalloc.get_traced_memory()\n",
        "    print(f\"Current Memory Usage: {current / 1024 ** 2:.2f} MB\")\n",
        "    print(f\"Peak Memory Usage: {peak / 1024 ** 2:.2f} MB\")\n",
        "\n",
        "print_memory_usage()\n",
        "print_cpu_usage()\n",
        "print_disk_usage()\n",
        "print_resource_usage()\n",
        "print_tracemalloc_usage()\n"
      ],
      "metadata": {
        "id": "U7lclQQ9rTRj",
        "colab": {
          "base_uri": "https://localhost:8080/"
        },
        "outputId": "04c093b2-fff3-472c-9e06-9ac6b372cab1"
      },
      "execution_count": null,
      "outputs": [
        {
          "output_type": "stream",
          "name": "stderr",
          "text": [
            "100%|██████████| 395/395 [00:02<00:00, 163.00it/s]\n",
            "100%|██████████| 826/826 [00:06<00:00, 132.24it/s]\n",
            "100%|██████████| 822/822 [00:06<00:00, 133.24it/s]\n",
            "100%|██████████| 827/827 [00:06<00:00, 129.39it/s]\n"
          ]
        },
        {
          "output_type": "stream",
          "name": "stdout",
          "text": [
            "Total training samples: 2870\n",
            "Data saved successfully.\n",
            "RSS: 1677.86 MB\n",
            "VMS: 12861.14 MB\n",
            "CPU Usage: 6.0%\n",
            "Total Disk Space: 201.23 GB\n",
            "Used Disk Space: 27.83 GB\n",
            "Disk Usage: 13.8%\n",
            "User CPU time: 13.99 seconds\n",
            "System CPU time: 5.55 seconds\n",
            "Current Memory Usage: 826.17 MB\n",
            "Peak Memory Usage: 1238.28 MB\n",
            "CPU times: user 3.11 s, sys: 1e+03 ms, total: 4.11 s\n",
            "Wall time: 23.4 s\n"
          ]
        }
      ]
    },
    {
      "cell_type": "markdown",
      "source": [
        "### Testing Set"
      ],
      "metadata": {
        "id": "L14YMG6irNo7"
      }
    },
    {
      "cell_type": "code",
      "source": [
        "%%time\n",
        "\n",
        "testing_data = []\n",
        "\n",
        "def create_testing_data():\n",
        "    for category in CATEGORIES:\n",
        "        path = os.path.join(TEST_DIR, category)  # create path\n",
        "        class_num = CATEGORIES.index(category)  # get the classification\n",
        "\n",
        "        for img in tqdm(os.listdir(path)):\n",
        "            # iterate over each image per category\n",
        "            img_array = cv2.imread(os.path.join(path, img), cv2.IMREAD_COLOR)  # convert to array\n",
        "            if img_array is not None:\n",
        "                new_array = cv2.resize(img_array, (IMG_SIZE, IMG_SIZE))  # resize to normalize data size\n",
        "                testing_data.append([new_array, class_num])  # add this to our testing_data\n",
        "\n",
        "    random.shuffle(testing_data)\n",
        "\n",
        "create_testing_data()\n",
        "print(f\"Total testing samples: {len(testing_data)}\")\n",
        "\n",
        "# Separate features and labels\n",
        "X_test = np.array([i[0] for i in testing_data]).reshape(-1, IMG_SIZE, IMG_SIZE, 3)\n",
        "Y_test = np.array([i[1] for i in testing_data])\n",
        "\n",
        "# Save the arrays using pickle\n",
        "with open(\"X_test_r.pickle\", \"wb\") as pickle_out:\n",
        "    pickle.dump(X_test, pickle_out)\n",
        "\n",
        "with open(\"Y_test_r.pickle\", \"wb\") as pickle_out:\n",
        "    pickle.dump(Y_test, pickle_out)\n",
        "\n",
        "print(\"Data saved successfully.\")\n",
        "\n",
        "# Functions to print resource usage\n",
        "tracemalloc.start()\n",
        "\n",
        "def print_memory_usage():\n",
        "    process = psutil.Process(os.getpid())\n",
        "    mem_info = process.memory_info()\n",
        "    print(f\"RSS: {mem_info.rss / 1024 ** 2:.2f} MB\")\n",
        "    print(f\"VMS: {mem_info.vms / 1024 ** 2:.2f} MB\")\n",
        "\n",
        "def print_cpu_usage():\n",
        "    print(f\"CPU Usage: {psutil.cpu_percent(interval=1)}%\")\n",
        "\n",
        "def print_disk_usage():\n",
        "    disk_usage = psutil.disk_usage('/')\n",
        "    print(f\"Total Disk Space: {disk_usage.total / 1024 ** 3:.2f} GB\")\n",
        "    print(f\"Used Disk Space: {disk_usage.used / 1024 ** 3:.2f} GB\")\n",
        "    print(f\"Disk Usage: {disk_usage.percent}%\")\n",
        "\n",
        "def print_resource_usage():\n",
        "    usage = resource.getrusage(resource.RUSAGE_SELF)\n",
        "    print(f\"User CPU time: {usage.ru_utime:.2f} seconds\")\n",
        "    print(f\"System CPU time: {usage.ru_stime:.2f} seconds\")\n",
        "\n",
        "def print_tracemalloc_usage():\n",
        "    current, peak = tracemalloc.get_traced_memory()\n",
        "    print(f\"Current Memory Usage: {current / 1024 ** 2:.2f} MB\")\n",
        "    print(f\"Peak Memory Usage: {peak / 1024 ** 2:.2f} MB\")\n",
        "\n",
        "print_memory_usage()\n",
        "print_cpu_usage()\n",
        "print_disk_usage()\n",
        "print_resource_usage()\n",
        "print_tracemalloc_usage()\n"
      ],
      "metadata": {
        "id": "Sm37R7T9q9cA",
        "colab": {
          "base_uri": "https://localhost:8080/"
        },
        "outputId": "24588a63-81c6-4922-97b8-b0decdaa1be7"
      },
      "execution_count": null,
      "outputs": [
        {
          "output_type": "stream",
          "name": "stderr",
          "text": [
            "100%|██████████| 105/105 [00:02<00:00, 52.39it/s]\n",
            "100%|██████████| 100/100 [00:02<00:00, 34.16it/s]\n",
            "100%|██████████| 115/115 [00:02<00:00, 49.51it/s] \n",
            "100%|██████████| 74/74 [00:31<00:00,  2.36it/s]\n"
          ]
        },
        {
          "output_type": "stream",
          "name": "stdout",
          "text": [
            "Total testing samples: 394\n",
            "Data saved successfully.\n",
            "RSS: 1791.04 MB\n",
            "VMS: 12974.32 MB\n",
            "CPU Usage: 0.8%\n",
            "Total Disk Space: 201.23 GB\n",
            "Used Disk Space: 27.90 GB\n",
            "Disk Usage: 13.9%\n",
            "User CPU time: 14.93 seconds\n",
            "System CPU time: 5.79 seconds\n",
            "Current Memory Usage: 939.43 MB\n",
            "Peak Memory Usage: 1238.28 MB\n",
            "CPU times: user 901 ms, sys: 239 ms, total: 1.14 s\n",
            "Wall time: 42.1 s\n"
          ]
        }
      ]
    },
    {
      "cell_type": "code",
      "source": [
        "# Path to the files in your Google Drive\n",
        "pathp = \"/content/gdrive/My Drive/Masters Project/Final Dataset/crop\"\n",
        "\n",
        "# List the contents of the directory to verify the files\n",
        "print(\"Contents of the directory:\")\n",
        "print(os.listdir(pathp))"
      ],
      "metadata": {
        "colab": {
          "base_uri": "https://localhost:8080/"
        },
        "id": "_R4B-nToImBq",
        "outputId": "23c48928-d5ee-4b1f-bdb4-dd53adc2b06a"
      },
      "execution_count": null,
      "outputs": [
        {
          "output_type": "stream",
          "name": "stdout",
          "text": [
            "Contents of the directory:\n",
            "['Training_Output_r', 'Testing_Output_r', 'pickle_r', 'X_train_r.pickle', 'Y_train_r.pickle', 'X_test_r.pickle', 'Y_test_r.pickle']\n"
          ]
        }
      ]
    }
  ]
}