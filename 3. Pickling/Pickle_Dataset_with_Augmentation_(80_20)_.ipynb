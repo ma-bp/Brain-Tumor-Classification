{
  "nbformat": 4,
  "nbformat_minor": 0,
  "metadata": {
    "colab": {
      "provenance": [],
      "machine_shape": "hm",
      "gpuType": "L4"
    },
    "kernelspec": {
      "name": "python3",
      "display_name": "Python 3"
    },
    "language_info": {
      "name": "python"
    },
    "accelerator": "GPU"
  },
  "cells": [
    {
      "cell_type": "markdown",
      "source": [
        "## Pickle Dataset - Training (80) - Testing (20)"
      ],
      "metadata": {
        "id": "OurmjVORki1a"
      }
    },
    {
      "cell_type": "markdown",
      "source": [
        "### Import Libraries"
      ],
      "metadata": {
        "id": "omxLwhyBkd2E"
      }
    },
    {
      "cell_type": "code",
      "source": [
        "import numpy as np\n",
        "import pickle\n",
        "import tensorflow as tf\n",
        "from tensorflow import keras\n",
        "from tensorflow.keras import layers, models\n",
        "import os\n",
        "import matplotlib.pyplot as plt"
      ],
      "metadata": {
        "id": "nz8F20x0m2_N"
      },
      "execution_count": null,
      "outputs": []
    },
    {
      "cell_type": "code",
      "source": [
        "from google.colab import drive\n",
        "drive.mount('/content/gdrive')"
      ],
      "metadata": {
        "colab": {
          "base_uri": "https://localhost:8080/"
        },
        "id": "9-c74xQVkddB",
        "outputId": "3797b7fb-973e-4892-b8e1-6460ed5fc35a"
      },
      "execution_count": null,
      "outputs": [
        {
          "output_type": "stream",
          "name": "stdout",
          "text": [
            "Mounted at /content/gdrive\n"
          ]
        }
      ]
    },
    {
      "cell_type": "code",
      "source": [
        "%cd /content/gdrive/My Drive/Masters Project/Final Dataset/pickle/pickleo\n",
        "!ls"
      ],
      "metadata": {
        "colab": {
          "base_uri": "https://localhost:8080/"
        },
        "id": "qVYs-yNTkv_M",
        "outputId": "6a5b4920-46fb-464d-cc0c-ee5cda56084c"
      },
      "execution_count": null,
      "outputs": [
        {
          "output_type": "stream",
          "name": "stdout",
          "text": [
            "/content/gdrive/My Drive/Masters Project/Final Dataset/pickle\n",
            "X_test.pickle  X_train.pickle  Y_test.pickle  Y_train.pickle\n"
          ]
        }
      ]
    },
    {
      "cell_type": "markdown",
      "source": [
        "### Pickle Dataset"
      ],
      "metadata": {
        "id": "xhPaPllDHe8h"
      }
    },
    {
      "cell_type": "code",
      "source": [
        "%%time\n",
        "\n",
        "# Pickle\n",
        "\n",
        "# Paths to the pickle files\n",
        "pickle_dir = '/content/gdrive/My Drive/Masters Project/Final Dataset/pickle/pickleo'\n",
        "pickle_files = ['X_train.pickle', 'X_test.pickle', 'Y_train.pickle', 'Y_test.pickle']\n",
        "\n",
        "# Function to load pickle files\n",
        "def load_pickle(file_path):\n",
        "    with open(file_path, 'rb') as f:\n",
        "        return pickle.load(f)\n"
      ],
      "metadata": {
        "colab": {
          "base_uri": "https://localhost:8080/"
        },
        "id": "ATJUwKXElPhd",
        "outputId": "e54a3c16-2905-4819-8f16-6c3ef3efabd9"
      },
      "execution_count": null,
      "outputs": [
        {
          "output_type": "stream",
          "name": "stdout",
          "text": [
            "CPU times: user 10 µs, sys: 0 ns, total: 10 µs\n",
            "Wall time: 14.3 µs\n"
          ]
        }
      ]
    },
    {
      "cell_type": "code",
      "execution_count": null,
      "metadata": {
        "colab": {
          "base_uri": "https://localhost:8080/"
        },
        "id": "qElufYsVkaP3",
        "outputId": "a237a75c-e4fa-47d5-b2bc-bd7308cf8490"
      },
      "outputs": [
        {
          "output_type": "stream",
          "name": "stdout",
          "text": [
            "CPU times: user 1.64 s, sys: 8.54 s, total: 10.2 s\n",
            "Wall time: 1min 23s\n"
          ]
        }
      ],
      "source": [
        "%%time\n",
        "\n",
        "# Load the pickled dataset\n",
        "X_train = load_pickle(f'{pickle_dir}/{pickle_files[0]}')\n",
        "X_test = load_pickle(f'{pickle_dir}/{pickle_files[1]}')\n",
        "Y_train = load_pickle(f'{pickle_dir}/{pickle_files[2]}')\n",
        "Y_test = load_pickle(f'{pickle_dir}/{pickle_files[3]}')\n",
        "\n",
        "# Ensure the data is in the correct format\n",
        "X_train = np.array(X_train)\n",
        "X_test = np.array(X_test)\n",
        "Y_train = np.array(Y_train)\n",
        "Y_test = np.array(Y_test)"
      ]
    },
    {
      "cell_type": "markdown",
      "source": [
        "### Proposed Combine and Split the Pickle Files into Training 80% - Testing 20% Sets"
      ],
      "metadata": {
        "id": "LJar143dHuXP"
      }
    },
    {
      "cell_type": "code",
      "source": [
        "%%time\n",
        "\n",
        "# Shuffle the training and testing data\n",
        "import random\n",
        "\n",
        "# Combine the datasets\n",
        "X_combined = np.concatenate((X_train, X_test), axis=0)\n",
        "Y_combined = np.concatenate((Y_train, Y_test), axis=0)\n",
        "\n",
        "# Shuffle the combined dataset\n",
        "combined_indices = list(range(X_combined.shape[0]))\n",
        "random.shuffle(combined_indices)\n",
        "\n",
        "X_combined = X_combined[combined_indices]\n",
        "Y_combined = Y_combined[combined_indices]\n",
        "\n",
        "# Determine the new split indices\n",
        "total_samples = X_combined.shape[0]\n",
        "train_size = int(total_samples * 0.80)  # 80% for training\n",
        "test_size = total_samples - train_size  # 20% for testing\n",
        "\n",
        "# Split the data into new training and testing sets\n",
        "new_X_train = X_combined[:train_size]\n",
        "new_Y_train = Y_combined[:train_size]\n",
        "new_X_test = X_combined[train_size:]\n",
        "new_Y_test = Y_combined[train_size:]\n",
        "\n",
        "# Paths to save the new pickled datasets\n",
        "new_pickle_files = ['new_X_train.pickle', 'new_X_test.pickle', 'new_Y_train.pickle', 'new_Y_test.pickle']\n",
        "\n",
        "# Save the new training and testing samples\n",
        "def save_pickle(data, file_path):\n",
        "    with open(file_path, 'wb') as f:\n",
        "        pickle.dump(data, f)\n",
        "\n",
        "save_pickle(new_X_train, f'{pickle_dir}/{new_pickle_files[0]}')\n",
        "save_pickle(new_X_test, f'{pickle_dir}/{new_pickle_files[1]}')\n",
        "save_pickle(new_Y_train, f'{pickle_dir}/{new_pickle_files[2]}')\n",
        "save_pickle(new_Y_test, f'{pickle_dir}/{new_pickle_files[3]}')\n"
      ],
      "metadata": {
        "id": "DW_Zb9ZnHRJ4"
      },
      "execution_count": null,
      "outputs": []
    },
    {
      "cell_type": "code",
      "source": [
        "%cd /content/gdrive/My Drive/Masters Project/Final Dataset/pickle/pickleo\n",
        "!ls"
      ],
      "metadata": {
        "id": "8vt_Zdp_7O9X"
      },
      "execution_count": null,
      "outputs": []
    }
  ]
}