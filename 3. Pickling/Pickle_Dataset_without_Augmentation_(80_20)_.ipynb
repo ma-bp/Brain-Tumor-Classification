{
  "nbformat": 4,
  "nbformat_minor": 0,
  "metadata": {
    "colab": {
      "provenance": []
    },
    "kernelspec": {
      "name": "python3",
      "display_name": "Python 3"
    },
    "language_info": {
      "name": "python"
    }
  },
  "cells": [
    {
      "cell_type": "markdown",
      "source": [
        "## Pickle Dataset - Training (80) - Testing (20)"
      ],
      "metadata": {
        "id": "lACao8094nQH"
      }
    },
    {
      "cell_type": "markdown",
      "source": [
        "### Import Libraries"
      ],
      "metadata": {
        "id": "nReF5jkA4nGT"
      }
    },
    {
      "cell_type": "code",
      "source": [
        "import os\n",
        "import cv2\n",
        "import matplotlib.pyplot as plt\n",
        "import imutils\n",
        "import psutil\n",
        "import resource\n",
        "import tracemalloc\n",
        "import pickle\n",
        "import numpy as np\n",
        "import random\n",
        "from tqdm import tqdm"
      ],
      "metadata": {
        "id": "GBVH8-2nyHT8"
      },
      "execution_count": null,
      "outputs": []
    },
    {
      "cell_type": "code",
      "source": [
        "from google.colab import drive\n",
        "drive.mount('/content/gdrive')"
      ],
      "metadata": {
        "colab": {
          "base_uri": "https://localhost:8080/"
        },
        "id": "vx0p0OPK4hnW",
        "outputId": "b500675a-0eee-4e61-8a0f-374caf1ca0b4"
      },
      "execution_count": null,
      "outputs": [
        {
          "output_type": "stream",
          "name": "stdout",
          "text": [
            "Mounted at /content/gdrive\n"
          ]
        }
      ]
    },
    {
      "cell_type": "code",
      "source": [
        "%cd /content/gdrive/My Drive/Masters Project/Final Dataset/crop/pickle_r\n",
        "!ls"
      ],
      "metadata": {
        "colab": {
          "base_uri": "https://localhost:8080/"
        },
        "id": "oLbse62V4jo3",
        "outputId": "93d32881-5e41-427d-e83c-b6d3c87f8cfd"
      },
      "execution_count": null,
      "outputs": [
        {
          "output_type": "stream",
          "name": "stdout",
          "text": [
            "/content/gdrive/My Drive/Masters Project/Final Dataset/crop/pickle_r\n",
            "X_test_r.pickle  X_train_r.pickle  Y_test_r.pickle  Y_train_r.pickle\n"
          ]
        }
      ]
    },
    {
      "cell_type": "markdown",
      "source": [
        "### Pickle Dataset"
      ],
      "metadata": {
        "id": "kPiW9HBJ44J4"
      }
    },
    {
      "cell_type": "code",
      "source": [
        "%%time\n",
        "\n",
        "# Pickle\n",
        "\n",
        "# Paths to the pickle files\n",
        "pickle_dir = '/content/gdrive/My Drive/Masters Project/Final Dataset/crop/pickle_r'\n",
        "pickle_files = ['X_train_r.pickle', 'X_test_r.pickle', 'Y_train_r.pickle', 'Y_test_r.pickle']\n",
        "\n",
        "# Function to load pickle files\n",
        "def load_pickle(file_path):\n",
        "    with open(file_path, 'rb') as f:\n",
        "        return pickle.load(f)\n"
      ],
      "metadata": {
        "colab": {
          "base_uri": "https://localhost:8080/"
        },
        "id": "2AbyJbN_yHna",
        "outputId": "58baa75b-3d06-421d-e978-010f40230065"
      },
      "execution_count": null,
      "outputs": [
        {
          "output_type": "stream",
          "name": "stdout",
          "text": [
            "CPU times: user 5 µs, sys: 0 ns, total: 5 µs\n",
            "Wall time: 7.15 µs\n"
          ]
        }
      ]
    },
    {
      "cell_type": "code",
      "source": [
        "%%time\n",
        "\n",
        "# Load the pickled dataset\n",
        "X_train_r = load_pickle(f'{pickle_dir}/{pickle_files[0]}')\n",
        "X_test_r = load_pickle(f'{pickle_dir}/{pickle_files[1]}')\n",
        "Y_train_r = load_pickle(f'{pickle_dir}/{pickle_files[2]}')\n",
        "Y_test_r = load_pickle(f'{pickle_dir}/{pickle_files[3]}')\n",
        "\n",
        "# Ensure the data is in the correct format\n",
        "X_train_r = np.array(X_train_r)\n",
        "X_test_r = np.array(X_test_r)\n",
        "Y_train_r = np.array(Y_train_r)\n",
        "Y_test_r = np.array(Y_test_r)"
      ],
      "metadata": {
        "colab": {
          "base_uri": "https://localhost:8080/"
        },
        "id": "9IZNKT0f5Tzx",
        "outputId": "4ff621d7-0bed-4bac-952d-c50fefb3154d"
      },
      "execution_count": null,
      "outputs": [
        {
          "output_type": "stream",
          "name": "stdout",
          "text": [
            "CPU times: user 71.2 ms, sys: 998 ms, total: 1.07 s\n",
            "Wall time: 9.55 s\n"
          ]
        }
      ]
    },
    {
      "cell_type": "markdown",
      "source": [
        "### Proposed Combine and Split the Pickle Files into Training 80% - Testing 20% Sets"
      ],
      "metadata": {
        "id": "mQL0r3Jz5mMZ"
      }
    },
    {
      "cell_type": "code",
      "execution_count": null,
      "metadata": {
        "colab": {
          "base_uri": "https://localhost:8080/"
        },
        "id": "gQfCEkFFwhAC",
        "outputId": "868520e6-361d-4586-b74b-bfd97af7f2a7"
      },
      "outputs": [
        {
          "output_type": "stream",
          "name": "stdout",
          "text": [
            "CPU times: user 252 ms, sys: 925 ms, total: 1.18 s\n",
            "Wall time: 2.24 s\n"
          ]
        }
      ],
      "source": [
        "%%time\n",
        "\n",
        "# Shuffle the training and testing data\n",
        "import random\n",
        "\n",
        "# Combine the datasets\n",
        "X_combined = np.concatenate((X_train_r, X_test_r), axis=0)\n",
        "Y_combined = np.concatenate((Y_train_r, Y_test_r), axis=0)\n",
        "\n",
        "# Shuffle the combined dataset\n",
        "combined_indices = list(range(X_combined.shape[0]))\n",
        "random.shuffle(combined_indices)\n",
        "\n",
        "X_combined = X_combined[combined_indices]\n",
        "Y_combined = Y_combined[combined_indices]\n",
        "\n",
        "# Determine the new split indices\n",
        "total_samples = X_combined.shape[0]\n",
        "train_size = int(total_samples * 0.80)  # 80% for training\n",
        "test_size = total_samples - train_size  # 20% for testing\n",
        "\n",
        "# Split the data into new training and testing sets\n",
        "new_X_train_r = X_combined[:train_size]\n",
        "new_Y_train_r = Y_combined[:train_size]\n",
        "new_X_test_r = X_combined[train_size:]\n",
        "new_Y_test_r = Y_combined[train_size:]\n",
        "\n",
        "# Paths to save the new pickled datasets\n",
        "new_pickle_files = ['new_X_train_r.pickle', 'new_X_test_r.pickle', 'new_Y_train_r.pickle', 'new_Y_test_r.pickle']\n",
        "\n",
        "# Save the new training and testing samples\n",
        "def save_pickle(data, file_path):\n",
        "    with open(file_path, 'wb') as f:\n",
        "        pickle.dump(data, f)\n",
        "\n",
        "save_pickle(new_X_train_r, f'{pickle_dir}/{new_pickle_files[0]}')\n",
        "save_pickle(new_X_test_r, f'{pickle_dir}/{new_pickle_files[1]}')\n",
        "save_pickle(new_Y_train_r, f'{pickle_dir}/{new_pickle_files[2]}')\n",
        "save_pickle(new_Y_test_r, f'{pickle_dir}/{new_pickle_files[3]}')\n"
      ]
    },
    {
      "cell_type": "code",
      "source": [
        "%cd /content/gdrive/My Drive/Masters Project/Final Dataset/crop/pickle_r\n",
        "!ls"
      ],
      "metadata": {
        "colab": {
          "base_uri": "https://localhost:8080/"
        },
        "id": "IADZKEJA6vQF",
        "outputId": "767902b8-1e1b-46f7-f901-f625ade4cabf"
      },
      "execution_count": null,
      "outputs": [
        {
          "output_type": "stream",
          "name": "stdout",
          "text": [
            "/content/gdrive/My Drive/Masters Project/Final Dataset/crop/pickle_r\n",
            "new_X_test_r.pickle   new_Y_test_r.pickle   X_test_r.pickle   Y_test_r.pickle\n",
            "new_X_train_r.pickle  new_Y_train_r.pickle  X_train_r.pickle  Y_train_r.pickle\n"
          ]
        }
      ]
    }
  ]
}