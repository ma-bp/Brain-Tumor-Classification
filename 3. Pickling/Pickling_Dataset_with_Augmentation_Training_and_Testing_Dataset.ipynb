{
  "nbformat": 4,
  "nbformat_minor": 0,
  "metadata": {
    "colab": {
      "provenance": [],
      "machine_shape": "hm",
      "gpuType": "A100"
    },
    "kernelspec": {
      "name": "python3",
      "display_name": "Python 3"
    },
    "language_info": {
      "name": "python"
    },
    "accelerator": "GPU"
  },
  "cells": [
    {
      "cell_type": "markdown",
      "source": [
        "## Pickling Dataset"
      ],
      "metadata": {
        "id": "DytY5PiqpxCh"
      }
    },
    {
      "cell_type": "markdown",
      "source": [
        "### Import Libraries"
      ],
      "metadata": {
        "id": "oDEzY3Myp76s"
      }
    },
    {
      "cell_type": "code",
      "source": [
        "import os\n",
        "from PIL import Image\n",
        "import numpy as np\n",
        "import pandas as pd\n",
        "import cv2\n",
        "import matplotlib.pyplot as plt\n",
        "from tqdm import tqdm\n",
        "import random\n",
        "import tensorflow as tf\n",
        "import pickle\n",
        "import psutil\n",
        "import resource\n",
        "import tracemalloc"
      ],
      "metadata": {
        "id": "k9NqiDWOp4F8"
      },
      "execution_count": null,
      "outputs": []
    },
    {
      "cell_type": "code",
      "source": [
        "\n",
        "# Check TensorFlow version\n",
        "print(\"TensorFlow Version:\", tf.__version__)\n",
        "\n",
        "# List all physical devices\n",
        "physical_devices = tf.config.list_physical_devices()\n",
        "print(\"All Physical Devices:\", physical_devices)\n",
        "\n",
        "# List GPU devices\n",
        "gpus = tf.config.list_physical_devices('GPU')\n",
        "print(\"GPUs:\", gpus)\n",
        "\n",
        "# Test TensorFlow GPU availability\n",
        "device_name = tf.test.gpu_device_name()\n",
        "if device_name != '/device:GPU:0':\n",
        "    print(\"GPU device not found. Please ensure that your machine has a compatible GPU and that TensorFlow is set up to use it.\")\n",
        "else:\n",
        "    print('GPU found at {}. Using the L4 GPU hardware accelerator in Google Colab Pro.'.format(device_name))\n",
        "\n",
        "# Check if TensorFlow can access the GPU\n",
        "try:\n",
        "    with tf.device('/device:GPU:0'):\n",
        "        print(\"TensorFlow can access the L4 GPU hardware accelerator in Google Colab Pro\")\n",
        "except RuntimeError as e:\n",
        "    print(\"Error accessing the L4 GPU hardware accelerator in Google Colab Pro with TensorFlow:\", e)\n"
      ],
      "metadata": {
        "id": "UTycqc78qEET",
        "colab": {
          "base_uri": "https://localhost:8080/"
        },
        "outputId": "8abc4caf-7eda-45a2-95d4-5f200befe841"
      },
      "execution_count": null,
      "outputs": [
        {
          "output_type": "stream",
          "name": "stdout",
          "text": [
            "TensorFlow Version: 2.15.0\n",
            "All Physical Devices: [PhysicalDevice(name='/physical_device:CPU:0', device_type='CPU'), PhysicalDevice(name='/physical_device:GPU:0', device_type='GPU')]\n",
            "GPUs: [PhysicalDevice(name='/physical_device:GPU:0', device_type='GPU')]\n",
            "GPU found at /device:GPU:0. Using the L4 GPU hardware accelerator in Google Colab Pro.\n",
            "TensorFlow can access the L4 GPU hardware accelerator in Google Colab Pro\n"
          ]
        }
      ]
    },
    {
      "cell_type": "code",
      "source": [
        "from google.colab import drive\n",
        "drive.mount('/content/gdrive')"
      ],
      "metadata": {
        "id": "oHzaoecMqG65",
        "colab": {
          "base_uri": "https://localhost:8080/"
        },
        "outputId": "4f433511-dc36-460a-b4bc-3e6b7c792659"
      },
      "execution_count": null,
      "outputs": [
        {
          "output_type": "stream",
          "name": "stdout",
          "text": [
            "Drive already mounted at /content/gdrive; to attempt to forcibly remount, call drive.mount(\"/content/gdrive\", force_remount=True).\n"
          ]
        }
      ]
    },
    {
      "cell_type": "code",
      "source": [
        "%cd /content/gdrive/My Drive/Masters Project/Final Dataset\n",
        "!ls"
      ],
      "metadata": {
        "id": "b2aksOPNrIAz",
        "colab": {
          "base_uri": "https://localhost:8080/"
        },
        "outputId": "c0b6a657-b83f-43bc-b3d3-f5fbc62f7464"
      },
      "execution_count": null,
      "outputs": [
        {
          "output_type": "stream",
          "name": "stdout",
          "text": [
            "/content/gdrive/My Drive/Masters Project/Final Dataset\n",
            "Testing_Output\tTraining_Output\n"
          ]
        }
      ]
    },
    {
      "cell_type": "code",
      "source": [
        "TEST_DIR = \"//content//gdrive//My Drive//Masters Project//Final Dataset//Testing_Output\" # test data folder\n",
        "TRAIN_DIR = \"//content//gdrive//My Drive//Masters Project//Final Dataset//Training_Output\" # train data folder\n",
        "IMG_SIZE = 224 # image size\n",
        "CATEGORIES = [\"no_tumor_Output\",\"glioma_tumor_Output\",\"meningioma_tumor_Output\",\"pituitary_tumor_Output\"]"
      ],
      "metadata": {
        "id": "HGrnIVpsqG-l"
      },
      "execution_count": null,
      "outputs": []
    },
    {
      "cell_type": "markdown",
      "source": [
        "### Training Set"
      ],
      "metadata": {
        "id": "FvjQhhuerRAd"
      }
    },
    {
      "cell_type": "code",
      "source": [
        "%%time\n",
        "\n",
        "training_data = []\n",
        "\n",
        "def create_training_data():\n",
        "    for category in CATEGORIES:\n",
        "        path = os.path.join(TRAIN_DIR, category)  # create path\n",
        "        class_num = CATEGORIES.index(category)  # get the classification\n",
        "\n",
        "        for img in tqdm(os.listdir(path)):\n",
        "            # iterate over each image per category\n",
        "            img_array = cv2.imread(os.path.join(path, img), cv2.IMREAD_COLOR)  # convert to array\n",
        "            if img_array is not None:\n",
        "                new_array = cv2.resize(img_array, (IMG_SIZE, IMG_SIZE))  # resize to normalize data size\n",
        "                training_data.append([new_array, class_num])  # add this to our training_data\n",
        "\n",
        "    random.shuffle(training_data)\n",
        "\n",
        "create_training_data()\n",
        "print(f\"Total training samples: {len(training_data)}\")\n",
        "\n",
        "# Separate features and labels\n",
        "X_train = np.array([i[0] for i in training_data]).reshape(-1, IMG_SIZE, IMG_SIZE, 3)\n",
        "Y_train = np.array([i[1] for i in training_data])\n",
        "\n",
        "# Save the arrays using pickle\n",
        "with open(\"X_train.pickle\", \"wb\") as pickle_out:\n",
        "    pickle.dump(X_train, pickle_out)\n",
        "\n",
        "with open(\"Y_train.pickle\", \"wb\") as pickle_out:\n",
        "    pickle.dump(Y_train, pickle_out)\n",
        "\n",
        "print(\"Data saved successfully.\")\n",
        "\n",
        "# Functions to print resource usage\n",
        "tracemalloc.start()\n",
        "\n",
        "def print_memory_usage():\n",
        "    process = psutil.Process(os.getpid())\n",
        "    mem_info = process.memory_info()\n",
        "    print(f\"RSS: {mem_info.rss / 1024 ** 2:.2f} MB\")\n",
        "    print(f\"VMS: {mem_info.vms / 1024 ** 2:.2f} MB\")\n",
        "\n",
        "def print_cpu_usage():\n",
        "    print(f\"CPU Usage: {psutil.cpu_percent(interval=1)}%\")\n",
        "\n",
        "def print_disk_usage():\n",
        "    disk_usage = psutil.disk_usage('/')\n",
        "    print(f\"Total Disk Space: {disk_usage.total / 1024 ** 3:.2f} GB\")\n",
        "    print(f\"Used Disk Space: {disk_usage.used / 1024 ** 3:.2f} GB\")\n",
        "    print(f\"Disk Usage: {disk_usage.percent}%\")\n",
        "\n",
        "def print_resource_usage():\n",
        "    usage = resource.getrusage(resource.RUSAGE_SELF)\n",
        "    print(f\"User CPU time: {usage.ru_utime:.2f} seconds\")\n",
        "    print(f\"System CPU time: {usage.ru_stime:.2f} seconds\")\n",
        "\n",
        "def print_tracemalloc_usage():\n",
        "    current, peak = tracemalloc.get_traced_memory()\n",
        "    print(f\"Current Memory Usage: {current / 1024 ** 2:.2f} MB\")\n",
        "    print(f\"Peak Memory Usage: {peak / 1024 ** 2:.2f} MB\")\n",
        "\n",
        "print_memory_usage()\n",
        "print_cpu_usage()\n",
        "print_disk_usage()\n",
        "print_resource_usage()\n",
        "print_tracemalloc_usage()\n"
      ],
      "metadata": {
        "id": "U7lclQQ9rTRj",
        "colab": {
          "base_uri": "https://localhost:8080/"
        },
        "outputId": "34f93819-dd2b-4f8c-9337-585528911b1d"
      },
      "execution_count": null,
      "outputs": [
        {
          "output_type": "stream",
          "name": "stderr",
          "text": [
            "100%|██████████| 11099/11099 [04:26<00:00, 41.72it/s] \n",
            "100%|██████████| 11584/11584 [02:45<00:00, 69.94it/s] \n",
            "100%|██████████| 11527/11527 [02:42<00:00, 71.10it/s] \n",
            "100%|██████████| 11601/11601 [02:48<00:00, 68.77it/s] \n"
          ]
        },
        {
          "output_type": "stream",
          "name": "stdout",
          "text": [
            "Total training samples: 45811\n",
            "Data saved successfully.\n",
            "RSS: 15610.82 MB\n",
            "VMS: 31129.63 MB\n",
            "CPU Usage: 5.0%\n",
            "Total Disk Space: 201.23 GB\n",
            "Used Disk Space: 34.48 GB\n",
            "Disk Usage: 17.1%\n",
            "User CPU time: 303.96 seconds\n",
            "System CPU time: 61.20 seconds\n",
            "Current Memory Usage: 13527.39 MB\n",
            "Peak Memory Usage: 25087.20 MB\n",
            "CPU times: user 45.9 s, sys: 17.5 s, total: 1min 3s\n",
            "Wall time: 13min 11s\n"
          ]
        }
      ]
    },
    {
      "cell_type": "markdown",
      "source": [
        "### Testing Set"
      ],
      "metadata": {
        "id": "L14YMG6irNo7"
      }
    },
    {
      "cell_type": "code",
      "source": [
        "%%time\n",
        "\n",
        "testing_data = []\n",
        "\n",
        "def create_testing_data():\n",
        "    for category in CATEGORIES:\n",
        "        path = os.path.join(TEST_DIR, category)  # create path\n",
        "        class_num = CATEGORIES.index(category)  # get the classification\n",
        "\n",
        "        for img in tqdm(os.listdir(path)):\n",
        "            # iterate over each image per category\n",
        "            img_array = cv2.imread(os.path.join(path, img), cv2.IMREAD_COLOR)  # convert to array\n",
        "            if img_array is not None:\n",
        "                new_array = cv2.resize(img_array, (IMG_SIZE, IMG_SIZE))  # resize to normalize data size\n",
        "                testing_data.append([new_array, class_num])  # add this to our testing_data\n",
        "\n",
        "    random.shuffle(testing_data)\n",
        "\n",
        "create_testing_data()\n",
        "print(f\"Total testing samples: {len(testing_data)}\")\n",
        "\n",
        "# Separate features and labels\n",
        "X_test = np.array([i[0] for i in testing_data]).reshape(-1, IMG_SIZE, IMG_SIZE, 3)\n",
        "Y_test = np.array([i[1] for i in testing_data])\n",
        "\n",
        "# Save the arrays using pickle\n",
        "with open(\"X_test.pickle\", \"wb\") as pickle_out:\n",
        "    pickle.dump(X_test, pickle_out)\n",
        "\n",
        "with open(\"Y_test.pickle\", \"wb\") as pickle_out:\n",
        "    pickle.dump(Y_test, pickle_out)\n",
        "\n",
        "print(\"Data saved successfully.\")\n",
        "\n",
        "# Functions to print resource usage\n",
        "tracemalloc.start()\n",
        "\n",
        "def print_memory_usage():\n",
        "    process = psutil.Process(os.getpid())\n",
        "    mem_info = process.memory_info()\n",
        "    print(f\"RSS: {mem_info.rss / 1024 ** 2:.2f} MB\")\n",
        "    print(f\"VMS: {mem_info.vms / 1024 ** 2:.2f} MB\")\n",
        "\n",
        "def print_cpu_usage():\n",
        "    print(f\"CPU Usage: {psutil.cpu_percent(interval=1)}%\")\n",
        "\n",
        "def print_disk_usage():\n",
        "    disk_usage = psutil.disk_usage('/')\n",
        "    print(f\"Total Disk Space: {disk_usage.total / 1024 ** 3:.2f} GB\")\n",
        "    print(f\"Used Disk Space: {disk_usage.used / 1024 ** 3:.2f} GB\")\n",
        "    print(f\"Disk Usage: {disk_usage.percent}%\")\n",
        "\n",
        "def print_resource_usage():\n",
        "    usage = resource.getrusage(resource.RUSAGE_SELF)\n",
        "    print(f\"User CPU time: {usage.ru_utime:.2f} seconds\")\n",
        "    print(f\"System CPU time: {usage.ru_stime:.2f} seconds\")\n",
        "\n",
        "def print_tracemalloc_usage():\n",
        "    current, peak = tracemalloc.get_traced_memory()\n",
        "    print(f\"Current Memory Usage: {current / 1024 ** 2:.2f} MB\")\n",
        "    print(f\"Peak Memory Usage: {peak / 1024 ** 2:.2f} MB\")\n",
        "\n",
        "print_memory_usage()\n",
        "print_cpu_usage()\n",
        "print_disk_usage()\n",
        "print_resource_usage()\n",
        "print_tracemalloc_usage()\n"
      ],
      "metadata": {
        "id": "Sm37R7T9q9cA",
        "colab": {
          "base_uri": "https://localhost:8080/"
        },
        "outputId": "3ebc5509-aafa-4b7f-9b01-c0da3adc99d4"
      },
      "execution_count": null,
      "outputs": [
        {
          "output_type": "stream",
          "name": "stderr",
          "text": [
            "100%|██████████| 1496/1496 [00:36<00:00, 41.42it/s] \n",
            "100%|██████████| 1427/1427 [00:27<00:00, 51.80it/s] \n",
            "100%|██████████| 1637/1637 [00:40<00:00, 40.68it/s] \n",
            "100%|██████████| 1064/1064 [00:20<00:00, 51.37it/s] \n"
          ]
        },
        {
          "output_type": "stream",
          "name": "stdout",
          "text": [
            "Total testing samples: 5624\n",
            "Data saved successfully.\n",
            "RSS: 17224.85 MB\n",
            "VMS: 32743.30 MB\n",
            "CPU Usage: 7.4%\n",
            "Total Disk Space: 201.23 GB\n",
            "Used Disk Space: 35.33 GB\n",
            "Disk Usage: 17.6%\n",
            "User CPU time: 310.54 seconds\n",
            "System CPU time: 63.90 seconds\n",
            "Current Memory Usage: 15143.38 MB\n",
            "Peak Memory Usage: 25087.20 MB\n",
            "CPU times: user 6.56 s, sys: 2.7 s, total: 9.26 s\n",
            "Wall time: 2min 47s\n"
          ]
        }
      ]
    },
    {
      "cell_type": "code",
      "source": [
        "# Path to the files in your Google Drive\n",
        "pathp = \"/content/drive/My Drive/Masters Project/Final Dataset/\"\n",
        "\n",
        "# List the contents of the directory to verify the files\n",
        "print(\"Contents of the directory:\")\n",
        "print(os.listdir(pathp))"
      ],
      "metadata": {
        "colab": {
          "base_uri": "https://localhost:8080/"
        },
        "id": "_R4B-nToImBq",
        "outputId": "46d1a4da-9d76-4533-9cb8-0501aa4977ac"
      },
      "execution_count": null,
      "outputs": [
        {
          "output_type": "stream",
          "name": "stdout",
          "text": [
            "Contents of the directory:\n",
            "['Training_Output', 'Testing_Output', 'X_train.pickle', 'Y_train.pickle', 'X_test.pickle', 'Y_test.pickle']\n"
          ]
        }
      ]
    }
  ]
}